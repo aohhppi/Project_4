{
 "cells": [
  {
   "cell_type": "code",
   "execution_count": 1,
   "id": "ea96e849",
   "metadata": {},
   "outputs": [],
   "source": [
    "# Import our dependencies\n",
    "import pandas as pd\n",
    "import tensorflow as tf\n",
    "import sklearn as skl\n",
    "from sklearn.model_selection import train_test_split\n",
    "from sklearn.preprocessing import StandardScaler\n",
    "import matplotlib.pyplot as plt\n",
    "import numpy as np"
   ]
  },
  {
   "cell_type": "code",
   "execution_count": 2,
   "id": "08acb750",
   "metadata": {},
   "outputs": [
    {
     "data": {
      "text/html": [
       "<div>\n",
       "<style scoped>\n",
       "    .dataframe tbody tr th:only-of-type {\n",
       "        vertical-align: middle;\n",
       "    }\n",
       "\n",
       "    .dataframe tbody tr th {\n",
       "        vertical-align: top;\n",
       "    }\n",
       "\n",
       "    .dataframe thead th {\n",
       "        text-align: right;\n",
       "    }\n",
       "</style>\n",
       "<table border=\"1\" class=\"dataframe\">\n",
       "  <thead>\n",
       "    <tr style=\"text-align: right;\">\n",
       "      <th></th>\n",
       "      <th>id</th>\n",
       "      <th>position</th>\n",
       "      <th>name</th>\n",
       "      <th>score</th>\n",
       "      <th>ratings</th>\n",
       "      <th>category</th>\n",
       "      <th>price_range</th>\n",
       "      <th>full_address</th>\n",
       "      <th>zip_code</th>\n",
       "      <th>lat</th>\n",
       "      <th>lng</th>\n",
       "    </tr>\n",
       "  </thead>\n",
       "  <tbody>\n",
       "    <tr>\n",
       "      <th>0</th>\n",
       "      <td>1</td>\n",
       "      <td>19</td>\n",
       "      <td>PJ Fresh (224 Daniel Payne Drive)</td>\n",
       "      <td>NaN</td>\n",
       "      <td>NaN</td>\n",
       "      <td>Burgers, American, Sandwiches</td>\n",
       "      <td>$</td>\n",
       "      <td>224 Daniel Payne Drive, Birmingham, AL, 35207</td>\n",
       "      <td>35207</td>\n",
       "      <td>33.562365</td>\n",
       "      <td>-86.830703</td>\n",
       "    </tr>\n",
       "    <tr>\n",
       "      <th>1</th>\n",
       "      <td>2</td>\n",
       "      <td>9</td>\n",
       "      <td>J' ti`'z Smoothie-N-Coffee Bar</td>\n",
       "      <td>NaN</td>\n",
       "      <td>NaN</td>\n",
       "      <td>Coffee and Tea, Breakfast and Brunch, Bubble Tea</td>\n",
       "      <td>NaN</td>\n",
       "      <td>1521 Pinson Valley Parkway, Birmingham, AL, 35217</td>\n",
       "      <td>35217</td>\n",
       "      <td>33.583640</td>\n",
       "      <td>-86.773330</td>\n",
       "    </tr>\n",
       "    <tr>\n",
       "      <th>2</th>\n",
       "      <td>3</td>\n",
       "      <td>6</td>\n",
       "      <td>Philly Fresh Cheesesteaks (541-B Graymont Ave)</td>\n",
       "      <td>NaN</td>\n",
       "      <td>NaN</td>\n",
       "      <td>American, Cheesesteak, Sandwiches, Alcohol</td>\n",
       "      <td>$</td>\n",
       "      <td>541-B Graymont Ave, Birmingham, AL, 35204</td>\n",
       "      <td>35204</td>\n",
       "      <td>33.509800</td>\n",
       "      <td>-86.854640</td>\n",
       "    </tr>\n",
       "    <tr>\n",
       "      <th>3</th>\n",
       "      <td>4</td>\n",
       "      <td>17</td>\n",
       "      <td>Papa Murphy's (1580 Montgomery Highway)</td>\n",
       "      <td>NaN</td>\n",
       "      <td>NaN</td>\n",
       "      <td>Pizza</td>\n",
       "      <td>$</td>\n",
       "      <td>1580 Montgomery Highway, Hoover, AL, 35226</td>\n",
       "      <td>35226</td>\n",
       "      <td>33.404439</td>\n",
       "      <td>-86.806614</td>\n",
       "    </tr>\n",
       "    <tr>\n",
       "      <th>4</th>\n",
       "      <td>5</td>\n",
       "      <td>162</td>\n",
       "      <td>Nelson Brothers Cafe (17th St N)</td>\n",
       "      <td>4.7</td>\n",
       "      <td>22.0</td>\n",
       "      <td>Breakfast and Brunch, Burgers, Sandwiches</td>\n",
       "      <td>NaN</td>\n",
       "      <td>314 17th St N, Birmingham, AL, 35203</td>\n",
       "      <td>35203</td>\n",
       "      <td>33.514730</td>\n",
       "      <td>-86.811700</td>\n",
       "    </tr>\n",
       "  </tbody>\n",
       "</table>\n",
       "</div>"
      ],
      "text/plain": [
       "   id  position                                            name  score  \\\n",
       "0   1        19               PJ Fresh (224 Daniel Payne Drive)    NaN   \n",
       "1   2         9                  J' ti`'z Smoothie-N-Coffee Bar    NaN   \n",
       "2   3         6  Philly Fresh Cheesesteaks (541-B Graymont Ave)    NaN   \n",
       "3   4        17         Papa Murphy's (1580 Montgomery Highway)    NaN   \n",
       "4   5       162                Nelson Brothers Cafe (17th St N)    4.7   \n",
       "\n",
       "   ratings                                          category price_range  \\\n",
       "0      NaN                     Burgers, American, Sandwiches           $   \n",
       "1      NaN  Coffee and Tea, Breakfast and Brunch, Bubble Tea         NaN   \n",
       "2      NaN        American, Cheesesteak, Sandwiches, Alcohol           $   \n",
       "3      NaN                                             Pizza           $   \n",
       "4     22.0         Breakfast and Brunch, Burgers, Sandwiches         NaN   \n",
       "\n",
       "                                        full_address zip_code        lat  \\\n",
       "0      224 Daniel Payne Drive, Birmingham, AL, 35207    35207  33.562365   \n",
       "1  1521 Pinson Valley Parkway, Birmingham, AL, 35217    35217  33.583640   \n",
       "2          541-B Graymont Ave, Birmingham, AL, 35204    35204  33.509800   \n",
       "3         1580 Montgomery Highway, Hoover, AL, 35226    35226  33.404439   \n",
       "4               314 17th St N, Birmingham, AL, 35203    35203  33.514730   \n",
       "\n",
       "         lng  \n",
       "0 -86.830703  \n",
       "1 -86.773330  \n",
       "2 -86.854640  \n",
       "3 -86.806614  \n",
       "4 -86.811700  "
      ]
     },
     "execution_count": 2,
     "metadata": {},
     "output_type": "execute_result"
    }
   ],
   "source": [
    "#  Import and read the Kaggle restaurant dataset csv.\n",
    "restaurants_df = pd.read_csv(\"restaurants.csv\")\n",
    "restaurants_df.head()"
   ]
  },
  {
   "cell_type": "code",
   "execution_count": 3,
   "id": "b8c9b169",
   "metadata": {},
   "outputs": [
    {
     "data": {
      "text/plain": [
       "id                int64\n",
       "position          int64\n",
       "name             object\n",
       "score           float64\n",
       "ratings         float64\n",
       "category         object\n",
       "price_range      object\n",
       "full_address     object\n",
       "zip_code         object\n",
       "lat             float64\n",
       "lng             float64\n",
       "dtype: object"
      ]
     },
     "execution_count": 3,
     "metadata": {},
     "output_type": "execute_result"
    }
   ],
   "source": [
    "#  Check dataset data types\n",
    "restaurants_df.dtypes"
   ]
  },
  {
   "cell_type": "code",
   "execution_count": 4,
   "id": "3fc6da9d",
   "metadata": {},
   "outputs": [
    {
     "data": {
      "text/plain": [
       "id              40227\n",
       "position          300\n",
       "name            38863\n",
       "score              33\n",
       "ratings           416\n",
       "category        10647\n",
       "price_range         4\n",
       "full_address    35302\n",
       "zip_code         2281\n",
       "lat             36780\n",
       "lng             36745\n",
       "dtype: int64"
      ]
     },
     "execution_count": 4,
     "metadata": {},
     "output_type": "execute_result"
    }
   ],
   "source": [
    "# Determine the number of unique values in each column\n",
    "restaurants_df.nunique()"
   ]
  },
  {
   "cell_type": "code",
   "execution_count": 5,
   "id": "1fe2795c",
   "metadata": {},
   "outputs": [
    {
     "name": "stdout",
     "output_type": "stream",
     "text": [
      "Column id has 0 null values\n",
      "Column position has 0 null values\n",
      "Column name has 0 null values\n",
      "Column score has 17973 null values\n",
      "Column ratings has 17973 null values\n",
      "Column category has 23 null values\n",
      "Column price_range has 6646 null values\n",
      "Column full_address has 278 null values\n",
      "Column zip_code has 287 null values\n",
      "Column lat has 0 null values\n",
      "Column lng has 0 null values\n"
     ]
    }
   ],
   "source": [
    "#  Check rows with null values\n",
    "for column in restaurants_df.columns:\n",
    "    print(f'Column {column} has {restaurants_df[column].isnull().sum()} null values')"
   ]
  },
  {
   "cell_type": "markdown",
   "id": "daac81b0",
   "metadata": {},
   "source": [
    "#### Kaggle Data Definition \n",
    "\n",
    "* id (Restaurant id)\n",
    "* position (Restaurant position in the search result)\n",
    "* name (Restaurant name)\n",
    "* score (Restaurant score)\n",
    "* ratings (Ratings count)\n",
    "* category (Restaurant category)\n",
    "* price_range (Restaurant price range (1 = Inexpensive, 2 = Moderately expensive, 3 = Expensive, 4 = Very Expensive)\n",
    "* full_address (Restaurant full address)\n",
    "* zip_code (Zip code)\n",
    "* lat (Latitude)\n",
    "* long (Longitude)"
   ]
  },
  {
   "cell_type": "code",
   "execution_count": 6,
   "id": "7d29e8fa",
   "metadata": {},
   "outputs": [
    {
     "data": {
      "text/html": [
       "<div>\n",
       "<style scoped>\n",
       "    .dataframe tbody tr th:only-of-type {\n",
       "        vertical-align: middle;\n",
       "    }\n",
       "\n",
       "    .dataframe tbody tr th {\n",
       "        vertical-align: top;\n",
       "    }\n",
       "\n",
       "    .dataframe thead th {\n",
       "        text-align: right;\n",
       "    }\n",
       "</style>\n",
       "<table border=\"1\" class=\"dataframe\">\n",
       "  <thead>\n",
       "    <tr style=\"text-align: right;\">\n",
       "      <th></th>\n",
       "      <th>id</th>\n",
       "      <th>position</th>\n",
       "      <th>name</th>\n",
       "      <th>score</th>\n",
       "      <th>ratings</th>\n",
       "      <th>category</th>\n",
       "      <th>price_range</th>\n",
       "      <th>full_address</th>\n",
       "      <th>zip_code</th>\n",
       "      <th>lat</th>\n",
       "      <th>lng</th>\n",
       "    </tr>\n",
       "  </thead>\n",
       "  <tbody>\n",
       "    <tr>\n",
       "      <th>6</th>\n",
       "      <td>7</td>\n",
       "      <td>27</td>\n",
       "      <td>Jinsei Sushi</td>\n",
       "      <td>4.7</td>\n",
       "      <td>63.0</td>\n",
       "      <td>Sushi, Asian, Japanese</td>\n",
       "      <td>$</td>\n",
       "      <td>1830 29th Ave S, Birmingham, AL, 35209</td>\n",
       "      <td>35209</td>\n",
       "      <td>33.480440</td>\n",
       "      <td>-86.790440</td>\n",
       "    </tr>\n",
       "    <tr>\n",
       "      <th>13</th>\n",
       "      <td>14</td>\n",
       "      <td>51</td>\n",
       "      <td>Panera (521 Fieldstown Road)</td>\n",
       "      <td>4.6</td>\n",
       "      <td>44.0</td>\n",
       "      <td>Breakfast and Brunch, salad, Sandwich, Family ...</td>\n",
       "      <td>$</td>\n",
       "      <td>521 Fieldstown Road, Gardendale, AL, 35071</td>\n",
       "      <td>35071</td>\n",
       "      <td>33.651407</td>\n",
       "      <td>-86.819247</td>\n",
       "    </tr>\n",
       "    <tr>\n",
       "      <th>15</th>\n",
       "      <td>16</td>\n",
       "      <td>88</td>\n",
       "      <td>Jeni's Splendid Ice Cream (Pepper Place)</td>\n",
       "      <td>5.0</td>\n",
       "      <td>20.0</td>\n",
       "      <td>Ice Cream &amp;amp; Frozen Yogurt, Comfort Food, D...</td>\n",
       "      <td>$$$</td>\n",
       "      <td>219 29th St S, Birmingham, AL, 35233</td>\n",
       "      <td>35233</td>\n",
       "      <td>33.516600</td>\n",
       "      <td>-86.789950</td>\n",
       "    </tr>\n",
       "    <tr>\n",
       "      <th>18</th>\n",
       "      <td>19</td>\n",
       "      <td>30</td>\n",
       "      <td>Falafel Cafe</td>\n",
       "      <td>4.9</td>\n",
       "      <td>48.0</td>\n",
       "      <td>Middle Eastern, Mediterranean, Vegetarian, Gre...</td>\n",
       "      <td>$</td>\n",
       "      <td>401 19th St S, Birmingham, AL, 35233</td>\n",
       "      <td>35233</td>\n",
       "      <td>33.508353</td>\n",
       "      <td>-86.803170</td>\n",
       "    </tr>\n",
       "    <tr>\n",
       "      <th>19</th>\n",
       "      <td>20</td>\n",
       "      <td>40</td>\n",
       "      <td>MrBeast Burger (838 Odum Road)</td>\n",
       "      <td>3.7</td>\n",
       "      <td>19.0</td>\n",
       "      <td>American, Burgers, Sandwich</td>\n",
       "      <td>$$</td>\n",
       "      <td>838 Odum Road, Gardendale, AL, 35071</td>\n",
       "      <td>35071</td>\n",
       "      <td>33.645480</td>\n",
       "      <td>-86.826260</td>\n",
       "    </tr>\n",
       "  </tbody>\n",
       "</table>\n",
       "</div>"
      ],
      "text/plain": [
       "    id  position                                      name  score  ratings  \\\n",
       "6    7        27                              Jinsei Sushi    4.7     63.0   \n",
       "13  14        51              Panera (521 Fieldstown Road)    4.6     44.0   \n",
       "15  16        88  Jeni's Splendid Ice Cream (Pepper Place)    5.0     20.0   \n",
       "18  19        30                              Falafel Cafe    4.9     48.0   \n",
       "19  20        40            MrBeast Burger (838 Odum Road)    3.7     19.0   \n",
       "\n",
       "                                             category price_range  \\\n",
       "6                              Sushi, Asian, Japanese           $   \n",
       "13  Breakfast and Brunch, salad, Sandwich, Family ...           $   \n",
       "15  Ice Cream &amp; Frozen Yogurt, Comfort Food, D...         $$$   \n",
       "18  Middle Eastern, Mediterranean, Vegetarian, Gre...           $   \n",
       "19                        American, Burgers, Sandwich          $$   \n",
       "\n",
       "                                  full_address zip_code        lat        lng  \n",
       "6       1830 29th Ave S, Birmingham, AL, 35209    35209  33.480440 -86.790440  \n",
       "13  521 Fieldstown Road, Gardendale, AL, 35071    35071  33.651407 -86.819247  \n",
       "15        219 29th St S, Birmingham, AL, 35233    35233  33.516600 -86.789950  \n",
       "18        401 19th St S, Birmingham, AL, 35233    35233  33.508353 -86.803170  \n",
       "19        838 Odum Road, Gardendale, AL, 35071    35071  33.645480 -86.826260  "
      ]
     },
     "execution_count": 6,
     "metadata": {},
     "output_type": "execute_result"
    }
   ],
   "source": [
    "#  Drop records with null values\n",
    "df = restaurants_df.dropna(how='any')\n",
    "df.head()"
   ]
  },
  {
   "cell_type": "markdown",
   "id": "bba31902",
   "metadata": {},
   "source": [
    "#### Features\n",
    "* position (Restaurant position in the search result)\n",
    "* score (Restaurant score)\n",
    "* ratings (Ratings count)\n",
    "* category (Restaurant category)\n",
    "* price_range (Restaurant price range (1 = Inexpensive, 2 = Moderately expensive, 3 = Expensive, 4 = Very Expensive)\n",
    "* zip_code (Zip code)"
   ]
  },
  {
   "cell_type": "code",
   "execution_count": 7,
   "id": "b4cf6878",
   "metadata": {},
   "outputs": [
    {
     "data": {
      "text/plain": [
       "4.7    3399\n",
       "4.8    3255\n",
       "4.6    2861\n",
       "4.5    2310\n",
       "4.4    1644\n",
       "4.9    1535\n",
       "4.3    1146\n",
       "4.2     874\n",
       "4.1     540\n",
       "5.0     469\n",
       "4.0     321\n",
       "3.9     251\n",
       "3.8     165\n",
       "3.7      97\n",
       "3.6      68\n",
       "3.5      51\n",
       "3.2      31\n",
       "3.4      31\n",
       "3.3      16\n",
       "3.1      11\n",
       "2.9      10\n",
       "3.0       9\n",
       "2.7       9\n",
       "2.8       6\n",
       "2.1       3\n",
       "2.6       2\n",
       "2.5       1\n",
       "2.2       1\n",
       "2.4       1\n",
       "1.3       1\n",
       "Name: score, dtype: int64"
      ]
     },
     "execution_count": 7,
     "metadata": {},
     "output_type": "execute_result"
    }
   ],
   "source": [
    "# Determine the number of unique values in each column.\n",
    "df[\"score\"].value_counts()"
   ]
  },
  {
   "cell_type": "code",
   "execution_count": 8,
   "id": "c2b89f2c",
   "metadata": {},
   "outputs": [
    {
     "data": {
      "text/plain": [
       "200.0    866\n",
       "100.0    423\n",
       "11.0     385\n",
       "10.0     385\n",
       "12.0     378\n",
       "        ... \n",
       "454.0      1\n",
       "495.0      1\n",
       "463.0      1\n",
       "307.0      1\n",
       "392.0      1\n",
       "Name: ratings, Length: 409, dtype: int64"
      ]
     },
     "execution_count": 8,
     "metadata": {},
     "output_type": "execute_result"
    }
   ],
   "source": [
    "# Determine the number of unique values in each column.\n",
    "df[\"ratings\"].value_counts()"
   ]
  },
  {
   "cell_type": "code",
   "execution_count": 9,
   "id": "e26bb5f7",
   "metadata": {},
   "outputs": [
    {
     "data": {
      "text/plain": [
       "1      530\n",
       "2      486\n",
       "3      479\n",
       "4      430\n",
       "5      398\n",
       "      ... \n",
       "292      5\n",
       "299      4\n",
       "291      3\n",
       "287      2\n",
       "298      1\n",
       "Name: position, Length: 300, dtype: int64"
      ]
     },
     "execution_count": 9,
     "metadata": {},
     "output_type": "execute_result"
    }
   ],
   "source": [
    "# Determine the number of unique values in each column.\n",
    "df[\"position\"].value_counts()"
   ]
  },
  {
   "cell_type": "code",
   "execution_count": 10,
   "id": "09b743db",
   "metadata": {},
   "outputs": [
    {
     "data": {
      "text/plain": [
       "American, Burgers, Fast Food                                                                                                                                            556\n",
       "Burritos, Fast Food, Mexican                                                                                                                                            344\n",
       "Burgers, American, Sandwiches                                                                                                                                           331\n",
       "Fast Food, Sandwich, American                                                                                                                                           315\n",
       "Mexican, Latin American, New Mexican                                                                                                                                    289\n",
       "                                                                                                                                                                       ... \n",
       "Desserts, Pastry                                                                                                                                                          1\n",
       "Modern European, Comfort Food, Healthy                                                                                                                                    1\n",
       "Breakfast and Brunch, American, Vegetarian Friendly, Family Meals                                                                                                         1\n",
       "Black-owned, Chicken, Mexican, Desserts                                                                                                                                   1\n",
       "Mediterranean, Gluten Free Friendly, Allergy Friendly, Family Meals, Turkish, Greek, Middle Eastern, Salads, Vegan Friendly, Vegetarian Friendly, Local Specialities      1\n",
       "Name: category, Length: 5576, dtype: int64"
      ]
     },
     "execution_count": 10,
     "metadata": {},
     "output_type": "execute_result"
    }
   ],
   "source": [
    "# Determine the number of unique values in each column.\n",
    "df[\"category\"].value_counts()"
   ]
  },
  {
   "cell_type": "code",
   "execution_count": 11,
   "id": "8bc71a7e",
   "metadata": {},
   "outputs": [
    {
     "data": {
      "text/plain": [
       "$       14548\n",
       "$$       4460\n",
       "$$$       101\n",
       "$$$$        9\n",
       "Name: price_range, dtype: int64"
      ]
     },
     "execution_count": 11,
     "metadata": {},
     "output_type": "execute_result"
    }
   ],
   "source": [
    "# Determine the number of unique values in each column.\n",
    "df[\"price_range\"].value_counts()"
   ]
  },
  {
   "cell_type": "code",
   "execution_count": 12,
   "id": "17495bb5",
   "metadata": {},
   "outputs": [
    {
     "data": {
      "text/plain": [
       "22314         112\n",
       "98105         109\n",
       "22192         100\n",
       "22201          94\n",
       "22030          92\n",
       "             ... \n",
       "35020           1\n",
       "22046-4412      1\n",
       "22180-5727      1\n",
       "24290           1\n",
       "78744-1320      1\n",
       "Name: zip_code, Length: 1373, dtype: int64"
      ]
     },
     "execution_count": 12,
     "metadata": {},
     "output_type": "execute_result"
    }
   ],
   "source": [
    "# Determine the number of unique values in each column.\n",
    "df[\"zip_code\"].value_counts()"
   ]
  },
  {
   "cell_type": "code",
   "execution_count": 13,
   "id": "faa54dad",
   "metadata": {},
   "outputs": [
    {
     "data": {
      "text/plain": [
       "Everyday Needs by Gopuff                    26\n",
       "Kung Fu Tea                                 19\n",
       "The Ice Cream Shop                          16\n",
       "Pollo Regio                                 15\n",
       "Panera Bread                                12\n",
       "                                            ..\n",
       "Cafe Turko                                   1\n",
       "Koku Cafe + Market                           1\n",
       "Bounty Kitchen (Queen Anne)                  1\n",
       "Eltana Wood-Fired Bagel Cafe (Stone Way)     1\n",
       "Beijing Wok                                  1\n",
       "Name: name, Length: 18803, dtype: int64"
      ]
     },
     "execution_count": 13,
     "metadata": {},
     "output_type": "execute_result"
    }
   ],
   "source": [
    "# Determine the number of unique values in each column.\n",
    "df[\"name\"].value_counts()"
   ]
  },
  {
   "cell_type": "markdown",
   "id": "8dc4535f",
   "metadata": {},
   "source": [
    "#### Features\n",
    "* position (Restaurant position in the search result)\n",
    "* score (Restaurant score)\n",
    "* ratings (Ratings count)\n",
    "* category (Restaurant category)\n",
    "* price_range (Restaurant price range (1 = Inexpensive, 2 = Moderately expensive, 3 = Expensive, 4 = Very Expensive)\n",
    "* zip_code (Zip code)"
   ]
  },
  {
   "cell_type": "code",
   "execution_count": 14,
   "id": "257dccf1",
   "metadata": {},
   "outputs": [
    {
     "data": {
      "text/plain": [
       "id              19118\n",
       "position          300\n",
       "name            18803\n",
       "score              30\n",
       "ratings           409\n",
       "category         5576\n",
       "price_range         4\n",
       "full_address    17835\n",
       "zip_code         1373\n",
       "lat             18595\n",
       "lng             18586\n",
       "dtype: int64"
      ]
     },
     "execution_count": 14,
     "metadata": {},
     "output_type": "execute_result"
    }
   ],
   "source": [
    "# Determine the number of unique values in each column\n",
    "df.nunique()"
   ]
  },
  {
   "cell_type": "code",
   "execution_count": 15,
   "id": "1b0f2298",
   "metadata": {
    "scrolled": true
   },
   "outputs": [
    {
     "data": {
      "text/html": [
       "<div>\n",
       "<style scoped>\n",
       "    .dataframe tbody tr th:only-of-type {\n",
       "        vertical-align: middle;\n",
       "    }\n",
       "\n",
       "    .dataframe tbody tr th {\n",
       "        vertical-align: top;\n",
       "    }\n",
       "\n",
       "    .dataframe thead th {\n",
       "        text-align: right;\n",
       "    }\n",
       "</style>\n",
       "<table border=\"1\" class=\"dataframe\">\n",
       "  <thead>\n",
       "    <tr style=\"text-align: right;\">\n",
       "      <th></th>\n",
       "      <th>id</th>\n",
       "      <th>position</th>\n",
       "      <th>name</th>\n",
       "      <th>score</th>\n",
       "      <th>ratings</th>\n",
       "      <th>category</th>\n",
       "      <th>price_range</th>\n",
       "      <th>zip_code</th>\n",
       "    </tr>\n",
       "  </thead>\n",
       "  <tbody>\n",
       "    <tr>\n",
       "      <th>6</th>\n",
       "      <td>7</td>\n",
       "      <td>27</td>\n",
       "      <td>Jinsei Sushi</td>\n",
       "      <td>4.7</td>\n",
       "      <td>63.0</td>\n",
       "      <td>Sushi, Asian, Japanese</td>\n",
       "      <td>$</td>\n",
       "      <td>35209</td>\n",
       "    </tr>\n",
       "    <tr>\n",
       "      <th>13</th>\n",
       "      <td>14</td>\n",
       "      <td>51</td>\n",
       "      <td>Panera (521 Fieldstown Road)</td>\n",
       "      <td>4.6</td>\n",
       "      <td>44.0</td>\n",
       "      <td>Breakfast and Brunch, salad, Sandwich, Family ...</td>\n",
       "      <td>$</td>\n",
       "      <td>35071</td>\n",
       "    </tr>\n",
       "    <tr>\n",
       "      <th>15</th>\n",
       "      <td>16</td>\n",
       "      <td>88</td>\n",
       "      <td>Jeni's Splendid Ice Cream (Pepper Place)</td>\n",
       "      <td>5.0</td>\n",
       "      <td>20.0</td>\n",
       "      <td>Ice Cream &amp;amp; Frozen Yogurt, Comfort Food, D...</td>\n",
       "      <td>$$$</td>\n",
       "      <td>35233</td>\n",
       "    </tr>\n",
       "    <tr>\n",
       "      <th>18</th>\n",
       "      <td>19</td>\n",
       "      <td>30</td>\n",
       "      <td>Falafel Cafe</td>\n",
       "      <td>4.9</td>\n",
       "      <td>48.0</td>\n",
       "      <td>Middle Eastern, Mediterranean, Vegetarian, Gre...</td>\n",
       "      <td>$</td>\n",
       "      <td>35233</td>\n",
       "    </tr>\n",
       "    <tr>\n",
       "      <th>19</th>\n",
       "      <td>20</td>\n",
       "      <td>40</td>\n",
       "      <td>MrBeast Burger (838 Odum Road)</td>\n",
       "      <td>3.7</td>\n",
       "      <td>19.0</td>\n",
       "      <td>American, Burgers, Sandwich</td>\n",
       "      <td>$$</td>\n",
       "      <td>35071</td>\n",
       "    </tr>\n",
       "  </tbody>\n",
       "</table>\n",
       "</div>"
      ],
      "text/plain": [
       "    id  position                                      name  score  ratings  \\\n",
       "6    7        27                              Jinsei Sushi    4.7     63.0   \n",
       "13  14        51              Panera (521 Fieldstown Road)    4.6     44.0   \n",
       "15  16        88  Jeni's Splendid Ice Cream (Pepper Place)    5.0     20.0   \n",
       "18  19        30                              Falafel Cafe    4.9     48.0   \n",
       "19  20        40            MrBeast Burger (838 Odum Road)    3.7     19.0   \n",
       "\n",
       "                                             category price_range zip_code  \n",
       "6                              Sushi, Asian, Japanese           $    35209  \n",
       "13  Breakfast and Brunch, salad, Sandwich, Family ...           $    35071  \n",
       "15  Ice Cream &amp; Frozen Yogurt, Comfort Food, D...         $$$    35233  \n",
       "18  Middle Eastern, Mediterranean, Vegetarian, Gre...           $    35233  \n",
       "19                        American, Burgers, Sandwich          $$    35071  "
      ]
     },
     "execution_count": 15,
     "metadata": {},
     "output_type": "execute_result"
    }
   ],
   "source": [
    "# Drop the non-beneficial ID columns\n",
    "final_df = df.drop(columns=[\"full_address\",\"lat\",\"lng\"])\n",
    "final_df.head()"
   ]
  },
  {
   "cell_type": "code",
   "execution_count": 16,
   "id": "ef19c784",
   "metadata": {},
   "outputs": [
    {
     "data": {
      "text/html": [
       "<div>\n",
       "<style scoped>\n",
       "    .dataframe tbody tr th:only-of-type {\n",
       "        vertical-align: middle;\n",
       "    }\n",
       "\n",
       "    .dataframe tbody tr th {\n",
       "        vertical-align: top;\n",
       "    }\n",
       "\n",
       "    .dataframe thead th {\n",
       "        text-align: right;\n",
       "    }\n",
       "</style>\n",
       "<table border=\"1\" class=\"dataframe\">\n",
       "  <thead>\n",
       "    <tr style=\"text-align: right;\">\n",
       "      <th></th>\n",
       "      <th>restaurant_id</th>\n",
       "      <th>category</th>\n",
       "      <th>name</th>\n",
       "      <th>description</th>\n",
       "      <th>price</th>\n",
       "    </tr>\n",
       "  </thead>\n",
       "  <tbody>\n",
       "    <tr>\n",
       "      <th>0</th>\n",
       "      <td>1</td>\n",
       "      <td>Extra Large Pizza</td>\n",
       "      <td>Extra Large Meat Lovers</td>\n",
       "      <td>Whole pie.</td>\n",
       "      <td>15.99 USD</td>\n",
       "    </tr>\n",
       "    <tr>\n",
       "      <th>1</th>\n",
       "      <td>1</td>\n",
       "      <td>Extra Large Pizza</td>\n",
       "      <td>Extra Large Supreme</td>\n",
       "      <td>Whole pie.</td>\n",
       "      <td>15.99 USD</td>\n",
       "    </tr>\n",
       "    <tr>\n",
       "      <th>2</th>\n",
       "      <td>1</td>\n",
       "      <td>Extra Large Pizza</td>\n",
       "      <td>Extra Large Pepperoni</td>\n",
       "      <td>Whole pie.</td>\n",
       "      <td>14.99 USD</td>\n",
       "    </tr>\n",
       "    <tr>\n",
       "      <th>3</th>\n",
       "      <td>1</td>\n",
       "      <td>Extra Large Pizza</td>\n",
       "      <td>Extra Large BBQ Chicken &amp;amp; Bacon</td>\n",
       "      <td>Whole Pie</td>\n",
       "      <td>15.99 USD</td>\n",
       "    </tr>\n",
       "    <tr>\n",
       "      <th>4</th>\n",
       "      <td>1</td>\n",
       "      <td>Extra Large Pizza</td>\n",
       "      <td>Extra Large 5 Cheese</td>\n",
       "      <td>Whole pie.</td>\n",
       "      <td>14.99 USD</td>\n",
       "    </tr>\n",
       "  </tbody>\n",
       "</table>\n",
       "</div>"
      ],
      "text/plain": [
       "   restaurant_id           category                                 name  \\\n",
       "0              1  Extra Large Pizza              Extra Large Meat Lovers   \n",
       "1              1  Extra Large Pizza                  Extra Large Supreme   \n",
       "2              1  Extra Large Pizza                Extra Large Pepperoni   \n",
       "3              1  Extra Large Pizza  Extra Large BBQ Chicken &amp; Bacon   \n",
       "4              1  Extra Large Pizza                 Extra Large 5 Cheese   \n",
       "\n",
       "  description      price  \n",
       "0  Whole pie.  15.99 USD  \n",
       "1  Whole pie.  15.99 USD  \n",
       "2  Whole pie.  14.99 USD  \n",
       "3   Whole Pie  15.99 USD  \n",
       "4  Whole pie.  14.99 USD  "
      ]
     },
     "execution_count": 16,
     "metadata": {},
     "output_type": "execute_result"
    }
   ],
   "source": [
    "#  Import and read the Kaggle restaurant menu dataset csv.\n",
    "menu_df = pd.read_csv(\"restaurant-menus.csv\")\n",
    "menu_df.head()"
   ]
  },
  {
   "cell_type": "code",
   "execution_count": 17,
   "id": "80b8bcf0",
   "metadata": {},
   "outputs": [
    {
     "data": {
      "text/html": [
       "<div>\n",
       "<style scoped>\n",
       "    .dataframe tbody tr th:only-of-type {\n",
       "        vertical-align: middle;\n",
       "    }\n",
       "\n",
       "    .dataframe tbody tr th {\n",
       "        vertical-align: top;\n",
       "    }\n",
       "\n",
       "    .dataframe thead th {\n",
       "        text-align: right;\n",
       "    }\n",
       "</style>\n",
       "<table border=\"1\" class=\"dataframe\">\n",
       "  <thead>\n",
       "    <tr style=\"text-align: right;\">\n",
       "      <th></th>\n",
       "      <th>restaurant_id</th>\n",
       "      <th>category</th>\n",
       "      <th>name</th>\n",
       "      <th>description</th>\n",
       "      <th>price</th>\n",
       "      <th>unit_price</th>\n",
       "      <th>currency</th>\n",
       "    </tr>\n",
       "  </thead>\n",
       "  <tbody>\n",
       "    <tr>\n",
       "      <th>0</th>\n",
       "      <td>1</td>\n",
       "      <td>Extra Large Pizza</td>\n",
       "      <td>Extra Large Meat Lovers</td>\n",
       "      <td>Whole pie.</td>\n",
       "      <td>15.99 USD</td>\n",
       "      <td>15.99</td>\n",
       "      <td>USD</td>\n",
       "    </tr>\n",
       "    <tr>\n",
       "      <th>1</th>\n",
       "      <td>1</td>\n",
       "      <td>Extra Large Pizza</td>\n",
       "      <td>Extra Large Supreme</td>\n",
       "      <td>Whole pie.</td>\n",
       "      <td>15.99 USD</td>\n",
       "      <td>15.99</td>\n",
       "      <td>USD</td>\n",
       "    </tr>\n",
       "    <tr>\n",
       "      <th>2</th>\n",
       "      <td>1</td>\n",
       "      <td>Extra Large Pizza</td>\n",
       "      <td>Extra Large Pepperoni</td>\n",
       "      <td>Whole pie.</td>\n",
       "      <td>14.99 USD</td>\n",
       "      <td>14.99</td>\n",
       "      <td>USD</td>\n",
       "    </tr>\n",
       "    <tr>\n",
       "      <th>3</th>\n",
       "      <td>1</td>\n",
       "      <td>Extra Large Pizza</td>\n",
       "      <td>Extra Large BBQ Chicken &amp;amp; Bacon</td>\n",
       "      <td>Whole Pie</td>\n",
       "      <td>15.99 USD</td>\n",
       "      <td>15.99</td>\n",
       "      <td>USD</td>\n",
       "    </tr>\n",
       "    <tr>\n",
       "      <th>4</th>\n",
       "      <td>1</td>\n",
       "      <td>Extra Large Pizza</td>\n",
       "      <td>Extra Large 5 Cheese</td>\n",
       "      <td>Whole pie.</td>\n",
       "      <td>14.99 USD</td>\n",
       "      <td>14.99</td>\n",
       "      <td>USD</td>\n",
       "    </tr>\n",
       "  </tbody>\n",
       "</table>\n",
       "</div>"
      ],
      "text/plain": [
       "   restaurant_id           category                                 name  \\\n",
       "0              1  Extra Large Pizza              Extra Large Meat Lovers   \n",
       "1              1  Extra Large Pizza                  Extra Large Supreme   \n",
       "2              1  Extra Large Pizza                Extra Large Pepperoni   \n",
       "3              1  Extra Large Pizza  Extra Large BBQ Chicken &amp; Bacon   \n",
       "4              1  Extra Large Pizza                 Extra Large 5 Cheese   \n",
       "\n",
       "  description      price unit_price currency  \n",
       "0  Whole pie.  15.99 USD      15.99      USD  \n",
       "1  Whole pie.  15.99 USD      15.99      USD  \n",
       "2  Whole pie.  14.99 USD      14.99      USD  \n",
       "3   Whole Pie  15.99 USD      15.99      USD  \n",
       "4  Whole pie.  14.99 USD      14.99      USD  "
      ]
     },
     "execution_count": 17,
     "metadata": {},
     "output_type": "execute_result"
    }
   ],
   "source": [
    "#  Split the price column between price and currency\n",
    "menu_df[['unit_price','currency']] = menu_df['price'].str.split(' ', 1, expand=True)\n",
    "menu_df.head()"
   ]
  },
  {
   "cell_type": "code",
   "execution_count": 18,
   "id": "844a6374",
   "metadata": {},
   "outputs": [
    {
     "data": {
      "text/plain": [
       "restaurant_id     int64\n",
       "category         object\n",
       "name             object\n",
       "description      object\n",
       "price            object\n",
       "unit_price       object\n",
       "currency         object\n",
       "dtype: object"
      ]
     },
     "execution_count": 18,
     "metadata": {},
     "output_type": "execute_result"
    }
   ],
   "source": [
    "#  Check the data types to see if conversion to float is needed\n",
    "menu_df.dtypes"
   ]
  },
  {
   "cell_type": "code",
   "execution_count": 19,
   "id": "69ad48b4",
   "metadata": {},
   "outputs": [
    {
     "data": {
      "text/plain": [
       "restaurant_id      int64\n",
       "category          object\n",
       "name              object\n",
       "description       object\n",
       "price             object\n",
       "unit_price       float64\n",
       "currency          object\n",
       "dtype: object"
      ]
     },
     "execution_count": 19,
     "metadata": {},
     "output_type": "execute_result"
    }
   ],
   "source": [
    "#  Convert unit price data type from object to float\n",
    "menu_df['unit_price'] = menu_df['unit_price'].astype('float')\n",
    "menu_df.dtypes"
   ]
  },
  {
   "cell_type": "code",
   "execution_count": 20,
   "id": "aad99f87",
   "metadata": {},
   "outputs": [
    {
     "data": {
      "text/html": [
       "<div>\n",
       "<style scoped>\n",
       "    .dataframe tbody tr th:only-of-type {\n",
       "        vertical-align: middle;\n",
       "    }\n",
       "\n",
       "    .dataframe tbody tr th {\n",
       "        vertical-align: top;\n",
       "    }\n",
       "\n",
       "    .dataframe thead th {\n",
       "        text-align: right;\n",
       "    }\n",
       "</style>\n",
       "<table border=\"1\" class=\"dataframe\">\n",
       "  <thead>\n",
       "    <tr style=\"text-align: right;\">\n",
       "      <th></th>\n",
       "      <th>cheapest_plate</th>\n",
       "      <th>most_expensive_plate</th>\n",
       "      <th>average_plate</th>\n",
       "    </tr>\n",
       "    <tr>\n",
       "      <th>restaurant_id</th>\n",
       "      <th></th>\n",
       "      <th></th>\n",
       "      <th></th>\n",
       "    </tr>\n",
       "  </thead>\n",
       "  <tbody>\n",
       "    <tr>\n",
       "      <th>1</th>\n",
       "      <td>1.89</td>\n",
       "      <td>16.99</td>\n",
       "      <td>5.663684</td>\n",
       "    </tr>\n",
       "    <tr>\n",
       "      <th>2</th>\n",
       "      <td>0.60</td>\n",
       "      <td>8.49</td>\n",
       "      <td>5.505333</td>\n",
       "    </tr>\n",
       "    <tr>\n",
       "      <th>3</th>\n",
       "      <td>3.00</td>\n",
       "      <td>16.78</td>\n",
       "      <td>10.762143</td>\n",
       "    </tr>\n",
       "    <tr>\n",
       "      <th>4</th>\n",
       "      <td>2.49</td>\n",
       "      <td>16.99</td>\n",
       "      <td>10.531892</td>\n",
       "    </tr>\n",
       "    <tr>\n",
       "      <th>5</th>\n",
       "      <td>1.00</td>\n",
       "      <td>20.00</td>\n",
       "      <td>4.532576</td>\n",
       "    </tr>\n",
       "  </tbody>\n",
       "</table>\n",
       "</div>"
      ],
      "text/plain": [
       "               cheapest_plate  most_expensive_plate  average_plate\n",
       "restaurant_id                                                     \n",
       "1                        1.89                 16.99       5.663684\n",
       "2                        0.60                  8.49       5.505333\n",
       "3                        3.00                 16.78      10.762143\n",
       "4                        2.49                 16.99      10.531892\n",
       "5                        1.00                 20.00       4.532576"
      ]
     },
     "execution_count": 20,
     "metadata": {},
     "output_type": "execute_result"
    }
   ],
   "source": [
    "# Summarize by restaurant and obtain the cheapest, most expensive and average price per plate\n",
    "restaurant_group = menu_df.groupby(['restaurant_id'])\n",
    "cheapest = restaurant_group['unit_price'].min()\n",
    "most_expensive = restaurant_group['unit_price'].max()\n",
    "average = restaurant_group['unit_price'].mean()\n",
    "\n",
    "plate_df = pd.DataFrame({\"cheapest_plate\": cheapest,\n",
    "                         \"most_expensive_plate\" : most_expensive,\n",
    "                         \"average_plate\": average})\n",
    "plate_df.head()"
   ]
  },
  {
   "cell_type": "code",
   "execution_count": 21,
   "id": "af383411",
   "metadata": {},
   "outputs": [
    {
     "data": {
      "text/html": [
       "<div>\n",
       "<style scoped>\n",
       "    .dataframe tbody tr th:only-of-type {\n",
       "        vertical-align: middle;\n",
       "    }\n",
       "\n",
       "    .dataframe tbody tr th {\n",
       "        vertical-align: top;\n",
       "    }\n",
       "\n",
       "    .dataframe thead th {\n",
       "        text-align: right;\n",
       "    }\n",
       "</style>\n",
       "<table border=\"1\" class=\"dataframe\">\n",
       "  <thead>\n",
       "    <tr style=\"text-align: right;\">\n",
       "      <th></th>\n",
       "      <th>cheapest_plate</th>\n",
       "      <th>most_expensive_plate</th>\n",
       "      <th>average_plate</th>\n",
       "      <th>id</th>\n",
       "    </tr>\n",
       "    <tr>\n",
       "      <th>restaurant_id</th>\n",
       "      <th></th>\n",
       "      <th></th>\n",
       "      <th></th>\n",
       "      <th></th>\n",
       "    </tr>\n",
       "  </thead>\n",
       "  <tbody>\n",
       "    <tr>\n",
       "      <th>1</th>\n",
       "      <td>1.89</td>\n",
       "      <td>16.99</td>\n",
       "      <td>5.663684</td>\n",
       "      <td>1</td>\n",
       "    </tr>\n",
       "    <tr>\n",
       "      <th>2</th>\n",
       "      <td>0.60</td>\n",
       "      <td>8.49</td>\n",
       "      <td>5.505333</td>\n",
       "      <td>2</td>\n",
       "    </tr>\n",
       "    <tr>\n",
       "      <th>3</th>\n",
       "      <td>3.00</td>\n",
       "      <td>16.78</td>\n",
       "      <td>10.762143</td>\n",
       "      <td>3</td>\n",
       "    </tr>\n",
       "    <tr>\n",
       "      <th>4</th>\n",
       "      <td>2.49</td>\n",
       "      <td>16.99</td>\n",
       "      <td>10.531892</td>\n",
       "      <td>4</td>\n",
       "    </tr>\n",
       "    <tr>\n",
       "      <th>5</th>\n",
       "      <td>1.00</td>\n",
       "      <td>20.00</td>\n",
       "      <td>4.532576</td>\n",
       "      <td>5</td>\n",
       "    </tr>\n",
       "  </tbody>\n",
       "</table>\n",
       "</div>"
      ],
      "text/plain": [
       "               cheapest_plate  most_expensive_plate  average_plate  id\n",
       "restaurant_id                                                         \n",
       "1                        1.89                 16.99       5.663684   1\n",
       "2                        0.60                  8.49       5.505333   2\n",
       "3                        3.00                 16.78      10.762143   3\n",
       "4                        2.49                 16.99      10.531892   4\n",
       "5                        1.00                 20.00       4.532576   5"
      ]
     },
     "execution_count": 21,
     "metadata": {},
     "output_type": "execute_result"
    }
   ],
   "source": [
    "# Create another id column using the index value to align with restaurant df in preparation for merging\n",
    "plate_df['id'] = plate_df.index\n",
    "plate_df.head()"
   ]
  },
  {
   "cell_type": "code",
   "execution_count": 22,
   "id": "1303d557",
   "metadata": {},
   "outputs": [
    {
     "data": {
      "text/html": [
       "<div>\n",
       "<style scoped>\n",
       "    .dataframe tbody tr th:only-of-type {\n",
       "        vertical-align: middle;\n",
       "    }\n",
       "\n",
       "    .dataframe tbody tr th {\n",
       "        vertical-align: top;\n",
       "    }\n",
       "\n",
       "    .dataframe thead th {\n",
       "        text-align: right;\n",
       "    }\n",
       "</style>\n",
       "<table border=\"1\" class=\"dataframe\">\n",
       "  <thead>\n",
       "    <tr style=\"text-align: right;\">\n",
       "      <th></th>\n",
       "      <th>id</th>\n",
       "      <th>position</th>\n",
       "      <th>name</th>\n",
       "      <th>score</th>\n",
       "      <th>ratings</th>\n",
       "      <th>category</th>\n",
       "      <th>price_range</th>\n",
       "      <th>zip_code</th>\n",
       "      <th>cheapest_plate</th>\n",
       "      <th>most_expensive_plate</th>\n",
       "      <th>average_plate</th>\n",
       "    </tr>\n",
       "  </thead>\n",
       "  <tbody>\n",
       "    <tr>\n",
       "      <th>0</th>\n",
       "      <td>7</td>\n",
       "      <td>27</td>\n",
       "      <td>Jinsei Sushi</td>\n",
       "      <td>4.7</td>\n",
       "      <td>63.0</td>\n",
       "      <td>Sushi, Asian, Japanese</td>\n",
       "      <td>$</td>\n",
       "      <td>35209</td>\n",
       "      <td>5.00</td>\n",
       "      <td>60.00</td>\n",
       "      <td>13.445946</td>\n",
       "    </tr>\n",
       "    <tr>\n",
       "      <th>1</th>\n",
       "      <td>14</td>\n",
       "      <td>51</td>\n",
       "      <td>Panera (521 Fieldstown Road)</td>\n",
       "      <td>4.6</td>\n",
       "      <td>44.0</td>\n",
       "      <td>Breakfast and Brunch, salad, Sandwich, Family ...</td>\n",
       "      <td>$</td>\n",
       "      <td>35071</td>\n",
       "      <td>0.00</td>\n",
       "      <td>45.79</td>\n",
       "      <td>9.504055</td>\n",
       "    </tr>\n",
       "    <tr>\n",
       "      <th>2</th>\n",
       "      <td>16</td>\n",
       "      <td>88</td>\n",
       "      <td>Jeni's Splendid Ice Cream (Pepper Place)</td>\n",
       "      <td>5.0</td>\n",
       "      <td>20.0</td>\n",
       "      <td>Ice Cream &amp;amp; Frozen Yogurt, Comfort Food, D...</td>\n",
       "      <td>$$$</td>\n",
       "      <td>35233</td>\n",
       "      <td>2.35</td>\n",
       "      <td>14.00</td>\n",
       "      <td>13.024194</td>\n",
       "    </tr>\n",
       "    <tr>\n",
       "      <th>3</th>\n",
       "      <td>19</td>\n",
       "      <td>30</td>\n",
       "      <td>Falafel Cafe</td>\n",
       "      <td>4.9</td>\n",
       "      <td>48.0</td>\n",
       "      <td>Middle Eastern, Mediterranean, Vegetarian, Gre...</td>\n",
       "      <td>$</td>\n",
       "      <td>35233</td>\n",
       "      <td>0.00</td>\n",
       "      <td>9.49</td>\n",
       "      <td>4.796667</td>\n",
       "    </tr>\n",
       "    <tr>\n",
       "      <th>4</th>\n",
       "      <td>20</td>\n",
       "      <td>40</td>\n",
       "      <td>MrBeast Burger (838 Odum Road)</td>\n",
       "      <td>3.7</td>\n",
       "      <td>19.0</td>\n",
       "      <td>American, Burgers, Sandwich</td>\n",
       "      <td>$$</td>\n",
       "      <td>35071</td>\n",
       "      <td>2.49</td>\n",
       "      <td>16.99</td>\n",
       "      <td>9.023333</td>\n",
       "    </tr>\n",
       "  </tbody>\n",
       "</table>\n",
       "</div>"
      ],
      "text/plain": [
       "   id  position                                      name  score  ratings  \\\n",
       "0   7        27                              Jinsei Sushi    4.7     63.0   \n",
       "1  14        51              Panera (521 Fieldstown Road)    4.6     44.0   \n",
       "2  16        88  Jeni's Splendid Ice Cream (Pepper Place)    5.0     20.0   \n",
       "3  19        30                              Falafel Cafe    4.9     48.0   \n",
       "4  20        40            MrBeast Burger (838 Odum Road)    3.7     19.0   \n",
       "\n",
       "                                            category price_range zip_code  \\\n",
       "0                             Sushi, Asian, Japanese           $    35209   \n",
       "1  Breakfast and Brunch, salad, Sandwich, Family ...           $    35071   \n",
       "2  Ice Cream &amp; Frozen Yogurt, Comfort Food, D...         $$$    35233   \n",
       "3  Middle Eastern, Mediterranean, Vegetarian, Gre...           $    35233   \n",
       "4                        American, Burgers, Sandwich          $$    35071   \n",
       "\n",
       "   cheapest_plate  most_expensive_plate  average_plate  \n",
       "0            5.00                 60.00      13.445946  \n",
       "1            0.00                 45.79       9.504055  \n",
       "2            2.35                 14.00      13.024194  \n",
       "3            0.00                  9.49       4.796667  \n",
       "4            2.49                 16.99       9.023333  "
      ]
     },
     "execution_count": 22,
     "metadata": {},
     "output_type": "execute_result"
    }
   ],
   "source": [
    "restaurants_df = pd.merge(final_df, plate_df, on = 'id', how = 'left')\n",
    "restaurants_df.head()"
   ]
  },
  {
   "cell_type": "code",
   "execution_count": 30,
   "id": "1e906fe3",
   "metadata": {},
   "outputs": [
    {
     "data": {
      "text/html": [
       "<div>\n",
       "<style scoped>\n",
       "    .dataframe tbody tr th:only-of-type {\n",
       "        vertical-align: middle;\n",
       "    }\n",
       "\n",
       "    .dataframe tbody tr th {\n",
       "        vertical-align: top;\n",
       "    }\n",
       "\n",
       "    .dataframe thead th {\n",
       "        text-align: right;\n",
       "    }\n",
       "</style>\n",
       "<table border=\"1\" class=\"dataframe\">\n",
       "  <thead>\n",
       "    <tr style=\"text-align: right;\">\n",
       "      <th></th>\n",
       "      <th>id</th>\n",
       "      <th>position</th>\n",
       "      <th>name</th>\n",
       "      <th>score</th>\n",
       "      <th>ratings</th>\n",
       "      <th>category</th>\n",
       "      <th>price_range</th>\n",
       "      <th>zip_code</th>\n",
       "      <th>cheapest_plate</th>\n",
       "      <th>most_expensive_plate</th>\n",
       "      <th>average_plate</th>\n",
       "    </tr>\n",
       "  </thead>\n",
       "  <tbody>\n",
       "    <tr>\n",
       "      <th>0</th>\n",
       "      <td>7</td>\n",
       "      <td>27</td>\n",
       "      <td>Jinsei Sushi</td>\n",
       "      <td>4.7</td>\n",
       "      <td>63.0</td>\n",
       "      <td>Sushi, Asian, Japanese</td>\n",
       "      <td>$</td>\n",
       "      <td>35209</td>\n",
       "      <td>5.00</td>\n",
       "      <td>60.00</td>\n",
       "      <td>13.445946</td>\n",
       "    </tr>\n",
       "    <tr>\n",
       "      <th>1</th>\n",
       "      <td>14</td>\n",
       "      <td>51</td>\n",
       "      <td>Panera (521 Fieldstown Road)</td>\n",
       "      <td>4.6</td>\n",
       "      <td>44.0</td>\n",
       "      <td>Breakfast and Brunch, salad, Sandwich, Family ...</td>\n",
       "      <td>$</td>\n",
       "      <td>35071</td>\n",
       "      <td>0.00</td>\n",
       "      <td>45.79</td>\n",
       "      <td>9.504055</td>\n",
       "    </tr>\n",
       "    <tr>\n",
       "      <th>2</th>\n",
       "      <td>16</td>\n",
       "      <td>88</td>\n",
       "      <td>Jeni's Splendid Ice Cream (Pepper Place)</td>\n",
       "      <td>5.0</td>\n",
       "      <td>20.0</td>\n",
       "      <td>Ice Cream &amp;amp; Frozen Yogurt, Comfort Food, D...</td>\n",
       "      <td>$$$</td>\n",
       "      <td>35233</td>\n",
       "      <td>2.35</td>\n",
       "      <td>14.00</td>\n",
       "      <td>13.024194</td>\n",
       "    </tr>\n",
       "    <tr>\n",
       "      <th>3</th>\n",
       "      <td>19</td>\n",
       "      <td>30</td>\n",
       "      <td>Falafel Cafe</td>\n",
       "      <td>4.9</td>\n",
       "      <td>48.0</td>\n",
       "      <td>Middle Eastern, Mediterranean, Vegetarian, Gre...</td>\n",
       "      <td>$</td>\n",
       "      <td>35233</td>\n",
       "      <td>0.00</td>\n",
       "      <td>9.49</td>\n",
       "      <td>4.796667</td>\n",
       "    </tr>\n",
       "    <tr>\n",
       "      <th>4</th>\n",
       "      <td>20</td>\n",
       "      <td>40</td>\n",
       "      <td>MrBeast Burger (838 Odum Road)</td>\n",
       "      <td>3.7</td>\n",
       "      <td>19.0</td>\n",
       "      <td>American, Burgers, Sandwich</td>\n",
       "      <td>$$</td>\n",
       "      <td>35071</td>\n",
       "      <td>2.49</td>\n",
       "      <td>16.99</td>\n",
       "      <td>9.023333</td>\n",
       "    </tr>\n",
       "    <tr>\n",
       "      <th>...</th>\n",
       "      <td>...</td>\n",
       "      <td>...</td>\n",
       "      <td>...</td>\n",
       "      <td>...</td>\n",
       "      <td>...</td>\n",
       "      <td>...</td>\n",
       "      <td>...</td>\n",
       "      <td>...</td>\n",
       "      <td>...</td>\n",
       "      <td>...</td>\n",
       "      <td>...</td>\n",
       "    </tr>\n",
       "    <tr>\n",
       "      <th>19113</th>\n",
       "      <td>40223</td>\n",
       "      <td>54</td>\n",
       "      <td>Mangia la pasta! (5610 N Interstate Hwy 35)</td>\n",
       "      <td>4.8</td>\n",
       "      <td>500.0</td>\n",
       "      <td>Pasta, Comfort Food, Italian, Group Friendly</td>\n",
       "      <td>$</td>\n",
       "      <td>78751</td>\n",
       "      <td>1.50</td>\n",
       "      <td>19.99</td>\n",
       "      <td>9.786721</td>\n",
       "    </tr>\n",
       "    <tr>\n",
       "      <th>19114</th>\n",
       "      <td>40224</td>\n",
       "      <td>53</td>\n",
       "      <td>Wholly Cow Burgers  (S Lamar)</td>\n",
       "      <td>4.6</td>\n",
       "      <td>245.0</td>\n",
       "      <td>American, Burgers, Breakfast and Brunch, Aller...</td>\n",
       "      <td>$</td>\n",
       "      <td>78704</td>\n",
       "      <td>1.00</td>\n",
       "      <td>13.99</td>\n",
       "      <td>5.228919</td>\n",
       "    </tr>\n",
       "    <tr>\n",
       "      <th>19115</th>\n",
       "      <td>40225</td>\n",
       "      <td>52</td>\n",
       "      <td>EurAsia Ramen 3</td>\n",
       "      <td>4.7</td>\n",
       "      <td>293.0</td>\n",
       "      <td>Sushi, Asian, Japanese, Exclusive to Eats, Gro...</td>\n",
       "      <td>$</td>\n",
       "      <td>78756</td>\n",
       "      <td>0.00</td>\n",
       "      <td>21.60</td>\n",
       "      <td>7.648000</td>\n",
       "    </tr>\n",
       "    <tr>\n",
       "      <th>19116</th>\n",
       "      <td>40226</td>\n",
       "      <td>51</td>\n",
       "      <td>Austin's Habibi (5th St)</td>\n",
       "      <td>4.7</td>\n",
       "      <td>208.0</td>\n",
       "      <td>Mediterranean, Gluten Free Friendly, Allergy F...</td>\n",
       "      <td>$$</td>\n",
       "      <td>78703</td>\n",
       "      <td>1.50</td>\n",
       "      <td>40.00</td>\n",
       "      <td>9.583509</td>\n",
       "    </tr>\n",
       "    <tr>\n",
       "      <th>19117</th>\n",
       "      <td>40227</td>\n",
       "      <td>50</td>\n",
       "      <td>Beijing Wok</td>\n",
       "      <td>4.4</td>\n",
       "      <td>254.0</td>\n",
       "      <td>Chinese, Asian, Asian Fusion, Family Friendly,...</td>\n",
       "      <td>$</td>\n",
       "      <td>78749</td>\n",
       "      <td>1.75</td>\n",
       "      <td>19.45</td>\n",
       "      <td>11.638616</td>\n",
       "    </tr>\n",
       "  </tbody>\n",
       "</table>\n",
       "<p>19060 rows × 11 columns</p>\n",
       "</div>"
      ],
      "text/plain": [
       "          id  position                                         name  score  \\\n",
       "0          7        27                                 Jinsei Sushi    4.7   \n",
       "1         14        51                 Panera (521 Fieldstown Road)    4.6   \n",
       "2         16        88     Jeni's Splendid Ice Cream (Pepper Place)    5.0   \n",
       "3         19        30                                 Falafel Cafe    4.9   \n",
       "4         20        40               MrBeast Burger (838 Odum Road)    3.7   \n",
       "...      ...       ...                                          ...    ...   \n",
       "19113  40223        54  Mangia la pasta! (5610 N Interstate Hwy 35)    4.8   \n",
       "19114  40224        53                Wholly Cow Burgers  (S Lamar)    4.6   \n",
       "19115  40225        52                              EurAsia Ramen 3    4.7   \n",
       "19116  40226        51                     Austin's Habibi (5th St)    4.7   \n",
       "19117  40227        50                                  Beijing Wok    4.4   \n",
       "\n",
       "       ratings                                           category price_range  \\\n",
       "0         63.0                             Sushi, Asian, Japanese           $   \n",
       "1         44.0  Breakfast and Brunch, salad, Sandwich, Family ...           $   \n",
       "2         20.0  Ice Cream &amp; Frozen Yogurt, Comfort Food, D...         $$$   \n",
       "3         48.0  Middle Eastern, Mediterranean, Vegetarian, Gre...           $   \n",
       "4         19.0                        American, Burgers, Sandwich          $$   \n",
       "...        ...                                                ...         ...   \n",
       "19113    500.0       Pasta, Comfort Food, Italian, Group Friendly           $   \n",
       "19114    245.0  American, Burgers, Breakfast and Brunch, Aller...           $   \n",
       "19115    293.0  Sushi, Asian, Japanese, Exclusive to Eats, Gro...           $   \n",
       "19116    208.0  Mediterranean, Gluten Free Friendly, Allergy F...          $$   \n",
       "19117    254.0  Chinese, Asian, Asian Fusion, Family Friendly,...           $   \n",
       "\n",
       "      zip_code  cheapest_plate  most_expensive_plate  average_plate  \n",
       "0        35209            5.00                 60.00      13.445946  \n",
       "1        35071            0.00                 45.79       9.504055  \n",
       "2        35233            2.35                 14.00      13.024194  \n",
       "3        35233            0.00                  9.49       4.796667  \n",
       "4        35071            2.49                 16.99       9.023333  \n",
       "...        ...             ...                   ...            ...  \n",
       "19113    78751            1.50                 19.99       9.786721  \n",
       "19114    78704            1.00                 13.99       5.228919  \n",
       "19115    78756            0.00                 21.60       7.648000  \n",
       "19116    78703            1.50                 40.00       9.583509  \n",
       "19117    78749            1.75                 19.45      11.638616  \n",
       "\n",
       "[19060 rows x 11 columns]"
      ]
     },
     "execution_count": 30,
     "metadata": {},
     "output_type": "execute_result"
    }
   ],
   "source": [
    "#  Drop records with null values\n",
    "df = restaurants_df.dropna(how='any')\n",
    "df"
   ]
  },
  {
   "cell_type": "code",
   "execution_count": 8,
   "id": "2fca37de",
   "metadata": {},
   "outputs": [],
   "source": [
    "# Create the model and fit the model to the data\n",
    "\n",
    "from sklearn.linear_model import LinearRegression\n",
    "\n",
    "model = LinearRegression()"
   ]
  },
  {
   "cell_type": "code",
   "execution_count": 17,
   "id": "9efee1ae",
   "metadata": {},
   "outputs": [],
   "source": [
    "y = final_df['position']\n",
    "X = final_df['ratings'].values\n",
    "X = X.reshape(-1,1)"
   ]
  },
  {
   "cell_type": "code",
   "execution_count": 18,
   "id": "4c187cd5",
   "metadata": {},
   "outputs": [
    {
     "name": "stdout",
     "output_type": "stream",
     "text": [
      "LinearRegression()\n"
     ]
    }
   ],
   "source": [
    "model.fit(X, y)\n",
    "\n",
    "\n",
    "print(model)"
   ]
  },
  {
   "cell_type": "code",
   "execution_count": 19,
   "id": "83039465",
   "metadata": {},
   "outputs": [],
   "source": [
    "ratings = model.score(X,y)"
   ]
  },
  {
   "cell_type": "code",
   "execution_count": 20,
   "id": "9c5d53d1",
   "metadata": {},
   "outputs": [
    {
     "name": "stdout",
     "output_type": "stream",
     "text": [
      "[0.03930486]\n",
      "67.15461039597646\n",
      "Model equation is: y = [0.03930486]x + 67.15461039597646\n"
     ]
    }
   ],
   "source": [
    "#this is so i know my line of best fit numbers\n",
    "print(model.coef_)\n",
    "print(model.intercept_)\n",
    "print(f'Model equation is: y = {model.coef_}x + {model.intercept_}')"
   ]
  },
  {
   "cell_type": "code",
   "execution_count": 21,
   "id": "3cf9b544",
   "metadata": {},
   "outputs": [
    {
     "data": {
      "text/plain": [
       "<matplotlib.collections.PathCollection at 0x1ea468aea48>"
      ]
     },
     "execution_count": 21,
     "metadata": {},
     "output_type": "execute_result"
    },
    {
     "data": {
      "image/png": "[encoded data removed]",
      "text/plain": [
       "<Figure size 432x288 with 1 Axes>"
      ]
     },
     "metadata": {
      "needs_background": "light"
     },
     "output_type": "display_data"
    }
   ],
   "source": [
    "plt.scatter(X, y)"
   ]
  },
  {
   "cell_type": "code",
   "execution_count": 22,
   "id": "5a31b978",
   "metadata": {
    "scrolled": true
   },
   "outputs": [
    {
     "name": "stdout",
     "output_type": "stream",
     "text": [
      "Min X Value: [[10.]]\n",
      "Max X Value: [[500.]]\n"
     ]
    }
   ],
   "source": [
    "x_min = np.array([[X.min()]])\n",
    "x_max = np.array([[X.max()]])\n",
    "print(f\"Min X Value: {x_min}\")\n",
    "print(f\"Max X Value: {x_max}\")"
   ]
  },
  {
   "cell_type": "code",
   "execution_count": 23,
   "id": "34851cfe",
   "metadata": {},
   "outputs": [],
   "source": [
    "y_min = model.predict(x_min)\n",
    "y_max = model.predict(x_max)"
   ]
  },
  {
   "cell_type": "code",
   "execution_count": 24,
   "id": "5c7729c8",
   "metadata": {},
   "outputs": [
    {
     "data": {
      "text/plain": [
       "[<matplotlib.lines.Line2D at 0x1ea474ba388>]"
      ]
     },
     "execution_count": 24,
     "metadata": {},
     "output_type": "execute_result"
    },
    {
     "data": {
      "image/png": "[encoded data removed]",
      "text/plain": [
       "<Figure size 432x288 with 1 Axes>"
      ]
     },
     "metadata": {
      "needs_background": "light"
     },
     "output_type": "display_data"
    }
   ],
   "source": [
    "plt.scatter(X, y, c='blue')\n",
    "plt.plot([x_min[0], x_max[0]], [y_min[0], y_max[0]], c='red')"
   ]
  },
  {
   "cell_type": "code",
   "execution_count": 9,
   "id": "efad6303",
   "metadata": {},
   "outputs": [
    {
     "data": {
      "text/html": [
       "<div>\n",
       "<style scoped>\n",
       "    .dataframe tbody tr th:only-of-type {\n",
       "        vertical-align: middle;\n",
       "    }\n",
       "\n",
       "    .dataframe tbody tr th {\n",
       "        vertical-align: top;\n",
       "    }\n",
       "\n",
       "    .dataframe thead th {\n",
       "        text-align: right;\n",
       "    }\n",
       "</style>\n",
       "<table border=\"1\" class=\"dataframe\">\n",
       "  <thead>\n",
       "    <tr style=\"text-align: right;\">\n",
       "      <th></th>\n",
       "      <th>index</th>\n",
       "      <th>position</th>\n",
       "      <th>score</th>\n",
       "      <th>ratings</th>\n",
       "      <th>category</th>\n",
       "      <th>price_range</th>\n",
       "      <th>zip_code</th>\n",
       "    </tr>\n",
       "  </thead>\n",
       "  <tbody>\n",
       "    <tr>\n",
       "      <th>0</th>\n",
       "      <td>6</td>\n",
       "      <td>27</td>\n",
       "      <td>4.7</td>\n",
       "      <td>63.0</td>\n",
       "      <td>Sushi, Asian, Japanese</td>\n",
       "      <td>1</td>\n",
       "      <td>35209</td>\n",
       "    </tr>\n",
       "    <tr>\n",
       "      <th>1</th>\n",
       "      <td>13</td>\n",
       "      <td>51</td>\n",
       "      <td>4.6</td>\n",
       "      <td>44.0</td>\n",
       "      <td>Breakfast and Brunch, salad, Sandwich, Family ...</td>\n",
       "      <td>1</td>\n",
       "      <td>35071</td>\n",
       "    </tr>\n",
       "    <tr>\n",
       "      <th>2</th>\n",
       "      <td>15</td>\n",
       "      <td>88</td>\n",
       "      <td>5.0</td>\n",
       "      <td>20.0</td>\n",
       "      <td>Ice Cream &amp;amp; Frozen Yogurt, Comfort Food, D...</td>\n",
       "      <td>3</td>\n",
       "      <td>35233</td>\n",
       "    </tr>\n",
       "    <tr>\n",
       "      <th>3</th>\n",
       "      <td>18</td>\n",
       "      <td>30</td>\n",
       "      <td>4.9</td>\n",
       "      <td>48.0</td>\n",
       "      <td>Middle Eastern, Mediterranean, Vegetarian, Gre...</td>\n",
       "      <td>1</td>\n",
       "      <td>35233</td>\n",
       "    </tr>\n",
       "    <tr>\n",
       "      <th>4</th>\n",
       "      <td>19</td>\n",
       "      <td>40</td>\n",
       "      <td>3.7</td>\n",
       "      <td>19.0</td>\n",
       "      <td>American, Burgers, Sandwich</td>\n",
       "      <td>2</td>\n",
       "      <td>35071</td>\n",
       "    </tr>\n",
       "    <tr>\n",
       "      <th>...</th>\n",
       "      <td>...</td>\n",
       "      <td>...</td>\n",
       "      <td>...</td>\n",
       "      <td>...</td>\n",
       "      <td>...</td>\n",
       "      <td>...</td>\n",
       "      <td>...</td>\n",
       "    </tr>\n",
       "    <tr>\n",
       "      <th>19113</th>\n",
       "      <td>40222</td>\n",
       "      <td>54</td>\n",
       "      <td>4.8</td>\n",
       "      <td>500.0</td>\n",
       "      <td>Pasta, Comfort Food, Italian, Group Friendly</td>\n",
       "      <td>1</td>\n",
       "      <td>78751</td>\n",
       "    </tr>\n",
       "    <tr>\n",
       "      <th>19114</th>\n",
       "      <td>40223</td>\n",
       "      <td>53</td>\n",
       "      <td>4.6</td>\n",
       "      <td>245.0</td>\n",
       "      <td>American, Burgers, Breakfast and Brunch, Aller...</td>\n",
       "      <td>1</td>\n",
       "      <td>78704</td>\n",
       "    </tr>\n",
       "    <tr>\n",
       "      <th>19115</th>\n",
       "      <td>40224</td>\n",
       "      <td>52</td>\n",
       "      <td>4.7</td>\n",
       "      <td>293.0</td>\n",
       "      <td>Sushi, Asian, Japanese, Exclusive to Eats, Gro...</td>\n",
       "      <td>1</td>\n",
       "      <td>78756</td>\n",
       "    </tr>\n",
       "    <tr>\n",
       "      <th>19116</th>\n",
       "      <td>40225</td>\n",
       "      <td>51</td>\n",
       "      <td>4.7</td>\n",
       "      <td>208.0</td>\n",
       "      <td>Mediterranean, Gluten Free Friendly, Allergy F...</td>\n",
       "      <td>2</td>\n",
       "      <td>78703</td>\n",
       "    </tr>\n",
       "    <tr>\n",
       "      <th>19117</th>\n",
       "      <td>40226</td>\n",
       "      <td>50</td>\n",
       "      <td>4.4</td>\n",
       "      <td>254.0</td>\n",
       "      <td>Chinese, Asian, Asian Fusion, Family Friendly,...</td>\n",
       "      <td>1</td>\n",
       "      <td>78749</td>\n",
       "    </tr>\n",
       "  </tbody>\n",
       "</table>\n",
       "<p>19118 rows × 7 columns</p>\n",
       "</div>"
      ],
      "text/plain": [
       "       index  position  score  ratings  \\\n",
       "0          6        27    4.7     63.0   \n",
       "1         13        51    4.6     44.0   \n",
       "2         15        88    5.0     20.0   \n",
       "3         18        30    4.9     48.0   \n",
       "4         19        40    3.7     19.0   \n",
       "...      ...       ...    ...      ...   \n",
       "19113  40222        54    4.8    500.0   \n",
       "19114  40223        53    4.6    245.0   \n",
       "19115  40224        52    4.7    293.0   \n",
       "19116  40225        51    4.7    208.0   \n",
       "19117  40226        50    4.4    254.0   \n",
       "\n",
       "                                                category  price_range zip_code  \n",
       "0                                 Sushi, Asian, Japanese            1    35209  \n",
       "1      Breakfast and Brunch, salad, Sandwich, Family ...            1    35071  \n",
       "2      Ice Cream &amp; Frozen Yogurt, Comfort Food, D...            3    35233  \n",
       "3      Middle Eastern, Mediterranean, Vegetarian, Gre...            1    35233  \n",
       "4                            American, Burgers, Sandwich            2    35071  \n",
       "...                                                  ...          ...      ...  \n",
       "19113       Pasta, Comfort Food, Italian, Group Friendly            1    78751  \n",
       "19114  American, Burgers, Breakfast and Brunch, Aller...            1    78704  \n",
       "19115  Sushi, Asian, Japanese, Exclusive to Eats, Gro...            1    78756  \n",
       "19116  Mediterranean, Gluten Free Friendly, Allergy F...            2    78703  \n",
       "19117  Chinese, Asian, Asian Fusion, Family Friendly,...            1    78749  \n",
       "\n",
       "[19118 rows x 7 columns]"
      ]
     },
     "execution_count": 9,
     "metadata": {},
     "output_type": "execute_result"
    }
   ],
   "source": [
    "def changeprice(price):\n",
    "    if price==\"$\":\n",
    "        return 1\n",
    "    elif price==\"$$\":\n",
    "        return 2\n",
    "    elif price==\"$$$\":\n",
    "        return 3\n",
    "    elif price==\"$$$$\":\n",
    "        return 4\n",
    "final_df[\"price_range\"]=final_df[\"price_range\"].apply(changeprice)\n",
    "final_df=final_df.reset_index()\n",
    "final_df"
   ]
  },
  {
   "cell_type": "code",
   "execution_count": 26,
   "id": "8868fcc3",
   "metadata": {},
   "outputs": [],
   "source": [
    "from sklearn.linear_model import LinearRegression\n",
    "\n",
    "model = LinearRegression()"
   ]
  },
  {
   "cell_type": "code",
   "execution_count": 10,
   "id": "8f52519f",
   "metadata": {},
   "outputs": [],
   "source": [
    "y = final_df['position'].values\n",
    "X = final_df['price_range'].values\n",
    "X = X.reshape(-1,1)"
   ]
  },
  {
   "cell_type": "code",
   "execution_count": 11,
   "id": "d96797ae",
   "metadata": {},
   "outputs": [
    {
     "name": "stdout",
     "output_type": "stream",
     "text": [
      "LinearRegression()\n"
     ]
    }
   ],
   "source": [
    "model.fit(X, y)\n",
    "\n",
    "\n",
    "print(model)"
   ]
  },
  {
   "cell_type": "code",
   "execution_count": 12,
   "id": "b68af850",
   "metadata": {},
   "outputs": [],
   "source": [
    "price_range = model.score(X,y)"
   ]
  },
  {
   "cell_type": "code",
   "execution_count": 13,
   "id": "ad74a8c9",
   "metadata": {},
   "outputs": [
    {
     "data": {
      "text/plain": [
       "<matplotlib.collections.PathCollection at 0x1cc412b4e08>"
      ]
     },
     "execution_count": 13,
     "metadata": {},
     "output_type": "execute_result"
    },
    {
     "data": {
      "image/png": "[encoded data removed]",
      "text/plain": [
       "<Figure size 432x288 with 1 Axes>"
      ]
     },
     "metadata": {
      "needs_background": "light"
     },
     "output_type": "display_data"
    }
   ],
   "source": [
    "plt.scatter(X, y)"
   ]
  },
  {
   "cell_type": "code",
   "execution_count": null,
   "id": "5c2bc40a",
   "metadata": {},
   "outputs": [],
   "source": []
  },
  {
   "cell_type": "code",
   "execution_count": 30,
   "id": "c66dec83",
   "metadata": {},
   "outputs": [],
   "source": [
    "from sklearn.linear_model import LinearRegression\n",
    "\n",
    "model = LinearRegression()"
   ]
  },
  {
   "cell_type": "code",
   "execution_count": 31,
   "id": "227f6d09",
   "metadata": {},
   "outputs": [],
   "source": [
    "y = final_df['position'].values\n",
    "X = final_df['score'].values\n",
    "X = X.reshape(-1,1)"
   ]
  },
  {
   "cell_type": "code",
   "execution_count": 32,
   "id": "826c0aba",
   "metadata": {},
   "outputs": [
    {
     "name": "stdout",
     "output_type": "stream",
     "text": [
      "LinearRegression()\n"
     ]
    }
   ],
   "source": [
    "model.fit(X, y)\n",
    "\n",
    "\n",
    "print(model)"
   ]
  },
  {
   "cell_type": "code",
   "execution_count": 33,
   "id": "5af2d456",
   "metadata": {},
   "outputs": [],
   "source": [
    "score = model.score(X,y)"
   ]
  },
  {
   "cell_type": "code",
   "execution_count": 34,
   "id": "fef20ae8",
   "metadata": {},
   "outputs": [
    {
     "data": {
      "text/plain": [
       "0.010205521989275157"
      ]
     },
     "execution_count": 34,
     "metadata": {},
     "output_type": "execute_result"
    }
   ],
   "source": [
    "score"
   ]
  },
  {
   "cell_type": "code",
   "execution_count": 39,
   "id": "f374a220",
   "metadata": {},
   "outputs": [
    {
     "data": {
      "text/plain": [
       "<BarContainer object of 3 artists>"
      ]
     },
     "execution_count": 39,
     "metadata": {},
     "output_type": "execute_result"
    },
    {
     "data": {
      "image/png": "[encoded data removed]",
      "text/plain": [
       "<Figure size 432x288 with 1 Axes>"
      ]
     },
     "metadata": {
      "needs_background": "light"
     },
     "output_type": "display_data"
    }
   ],
   "source": [
    "names = ['# of Ratings', 'Price Range', 'Score']\n",
    "values = [ratings, price_range, score]\n",
    "plt.title('Correlation Between Position vs. X')\n",
    "plt.bar(names, values, color = 'g')"
   ]
  },
  {
   "cell_type": "code",
   "execution_count": null,
   "id": "28651cd6",
   "metadata": {},
   "outputs": [],
   "source": []
  },
  {
   "cell_type": "code",
   "execution_count": null,
   "id": "2d9aaa25",
   "metadata": {},
   "outputs": [],
   "source": []
  },
  {
   "cell_type": "code",
   "execution_count": 36,
   "id": "a730c90b",
   "metadata": {},
   "outputs": [],
   "source": [
    "# Create a column for target\n",
    "# Definition: score over 4.0, position in search results over 10\n",
    "# final_df['success'] = 0\n",
    "# final_df.loc[final_df['position'] <= 10 & final_df['score'] >= 4.0, 'success'] = 1\n",
    "# final_df.head()"
   ]
  },
  {
   "cell_type": "code",
   "execution_count": 37,
   "id": "617abc48",
   "metadata": {},
   "outputs": [
    {
     "data": {
      "text/html": [
       "<div>\n",
       "<style scoped>\n",
       "    .dataframe tbody tr th:only-of-type {\n",
       "        vertical-align: middle;\n",
       "    }\n",
       "\n",
       "    .dataframe tbody tr th {\n",
       "        vertical-align: top;\n",
       "    }\n",
       "\n",
       "    .dataframe thead th {\n",
       "        text-align: right;\n",
       "    }\n",
       "</style>\n",
       "<table border=\"1\" class=\"dataframe\">\n",
       "  <thead>\n",
       "    <tr style=\"text-align: right;\">\n",
       "      <th></th>\n",
       "      <th>index</th>\n",
       "      <th>position</th>\n",
       "      <th>score</th>\n",
       "      <th>ratings</th>\n",
       "      <th>price_range</th>\n",
       "      <th>category_Afghan</th>\n",
       "      <th>category_Afghan, Comfort Food</th>\n",
       "      <th>category_Afghan, Middle Eastern</th>\n",
       "      <th>category_African, Black-owned</th>\n",
       "      <th>category_African, Caribbean, American, Black-owned, Chicken, Burgers, Family Meals, Comfort Food</th>\n",
       "      <th>...</th>\n",
       "      <th>zip_code_99324</th>\n",
       "      <th>zip_code_99336</th>\n",
       "      <th>zip_code_99337</th>\n",
       "      <th>zip_code_99338</th>\n",
       "      <th>zip_code_99352</th>\n",
       "      <th>zip_code_99353</th>\n",
       "      <th>zip_code_99354</th>\n",
       "      <th>zip_code_99362</th>\n",
       "      <th>zip_code_Milwaukee</th>\n",
       "      <th>zip_code_US</th>\n",
       "    </tr>\n",
       "  </thead>\n",
       "  <tbody>\n",
       "    <tr>\n",
       "      <th>0</th>\n",
       "      <td>6</td>\n",
       "      <td>27</td>\n",
       "      <td>4.7</td>\n",
       "      <td>63.0</td>\n",
       "      <td>1</td>\n",
       "      <td>0.0</td>\n",
       "      <td>0.0</td>\n",
       "      <td>0.0</td>\n",
       "      <td>0.0</td>\n",
       "      <td>0.0</td>\n",
       "      <td>...</td>\n",
       "      <td>0.0</td>\n",
       "      <td>0.0</td>\n",
       "      <td>0.0</td>\n",
       "      <td>0.0</td>\n",
       "      <td>0.0</td>\n",
       "      <td>0.0</td>\n",
       "      <td>0.0</td>\n",
       "      <td>0.0</td>\n",
       "      <td>0.0</td>\n",
       "      <td>0.0</td>\n",
       "    </tr>\n",
       "    <tr>\n",
       "      <th>1</th>\n",
       "      <td>13</td>\n",
       "      <td>51</td>\n",
       "      <td>4.6</td>\n",
       "      <td>44.0</td>\n",
       "      <td>1</td>\n",
       "      <td>0.0</td>\n",
       "      <td>0.0</td>\n",
       "      <td>0.0</td>\n",
       "      <td>0.0</td>\n",
       "      <td>0.0</td>\n",
       "      <td>...</td>\n",
       "      <td>0.0</td>\n",
       "      <td>0.0</td>\n",
       "      <td>0.0</td>\n",
       "      <td>0.0</td>\n",
       "      <td>0.0</td>\n",
       "      <td>0.0</td>\n",
       "      <td>0.0</td>\n",
       "      <td>0.0</td>\n",
       "      <td>0.0</td>\n",
       "      <td>0.0</td>\n",
       "    </tr>\n",
       "    <tr>\n",
       "      <th>2</th>\n",
       "      <td>15</td>\n",
       "      <td>88</td>\n",
       "      <td>5.0</td>\n",
       "      <td>20.0</td>\n",
       "      <td>3</td>\n",
       "      <td>0.0</td>\n",
       "      <td>0.0</td>\n",
       "      <td>0.0</td>\n",
       "      <td>0.0</td>\n",
       "      <td>0.0</td>\n",
       "      <td>...</td>\n",
       "      <td>0.0</td>\n",
       "      <td>0.0</td>\n",
       "      <td>0.0</td>\n",
       "      <td>0.0</td>\n",
       "      <td>0.0</td>\n",
       "      <td>0.0</td>\n",
       "      <td>0.0</td>\n",
       "      <td>0.0</td>\n",
       "      <td>0.0</td>\n",
       "      <td>0.0</td>\n",
       "    </tr>\n",
       "    <tr>\n",
       "      <th>3</th>\n",
       "      <td>18</td>\n",
       "      <td>30</td>\n",
       "      <td>4.9</td>\n",
       "      <td>48.0</td>\n",
       "      <td>1</td>\n",
       "      <td>0.0</td>\n",
       "      <td>0.0</td>\n",
       "      <td>0.0</td>\n",
       "      <td>0.0</td>\n",
       "      <td>0.0</td>\n",
       "      <td>...</td>\n",
       "      <td>0.0</td>\n",
       "      <td>0.0</td>\n",
       "      <td>0.0</td>\n",
       "      <td>0.0</td>\n",
       "      <td>0.0</td>\n",
       "      <td>0.0</td>\n",
       "      <td>0.0</td>\n",
       "      <td>0.0</td>\n",
       "      <td>0.0</td>\n",
       "      <td>0.0</td>\n",
       "    </tr>\n",
       "    <tr>\n",
       "      <th>4</th>\n",
       "      <td>19</td>\n",
       "      <td>40</td>\n",
       "      <td>3.7</td>\n",
       "      <td>19.0</td>\n",
       "      <td>2</td>\n",
       "      <td>0.0</td>\n",
       "      <td>0.0</td>\n",
       "      <td>0.0</td>\n",
       "      <td>0.0</td>\n",
       "      <td>0.0</td>\n",
       "      <td>...</td>\n",
       "      <td>0.0</td>\n",
       "      <td>0.0</td>\n",
       "      <td>0.0</td>\n",
       "      <td>0.0</td>\n",
       "      <td>0.0</td>\n",
       "      <td>0.0</td>\n",
       "      <td>0.0</td>\n",
       "      <td>0.0</td>\n",
       "      <td>0.0</td>\n",
       "      <td>0.0</td>\n",
       "    </tr>\n",
       "  </tbody>\n",
       "</table>\n",
       "<p>5 rows × 6954 columns</p>\n",
       "</div>"
      ],
      "text/plain": [
       "   index  position  score  ratings  price_range  category_Afghan  \\\n",
       "0      6        27    4.7     63.0            1              0.0   \n",
       "1     13        51    4.6     44.0            1              0.0   \n",
       "2     15        88    5.0     20.0            3              0.0   \n",
       "3     18        30    4.9     48.0            1              0.0   \n",
       "4     19        40    3.7     19.0            2              0.0   \n",
       "\n",
       "   category_Afghan, Comfort Food  category_Afghan, Middle Eastern  \\\n",
       "0                            0.0                              0.0   \n",
       "1                            0.0                              0.0   \n",
       "2                            0.0                              0.0   \n",
       "3                            0.0                              0.0   \n",
       "4                            0.0                              0.0   \n",
       "\n",
       "   category_African, Black-owned  \\\n",
       "0                            0.0   \n",
       "1                            0.0   \n",
       "2                            0.0   \n",
       "3                            0.0   \n",
       "4                            0.0   \n",
       "\n",
       "   category_African, Caribbean, American, Black-owned, Chicken, Burgers, Family Meals, Comfort Food  \\\n",
       "0                                                0.0                                                  \n",
       "1                                                0.0                                                  \n",
       "2                                                0.0                                                  \n",
       "3                                                0.0                                                  \n",
       "4                                                0.0                                                  \n",
       "\n",
       "   ...  zip_code_99324  zip_code_99336  zip_code_99337  zip_code_99338  \\\n",
       "0  ...             0.0             0.0             0.0             0.0   \n",
       "1  ...             0.0             0.0             0.0             0.0   \n",
       "2  ...             0.0             0.0             0.0             0.0   \n",
       "3  ...             0.0             0.0             0.0             0.0   \n",
       "4  ...             0.0             0.0             0.0             0.0   \n",
       "\n",
       "   zip_code_99352  zip_code_99353  zip_code_99354  zip_code_99362  \\\n",
       "0             0.0             0.0             0.0             0.0   \n",
       "1             0.0             0.0             0.0             0.0   \n",
       "2             0.0             0.0             0.0             0.0   \n",
       "3             0.0             0.0             0.0             0.0   \n",
       "4             0.0             0.0             0.0             0.0   \n",
       "\n",
       "   zip_code_Milwaukee  zip_code_US  \n",
       "0                 0.0          0.0  \n",
       "1                 0.0          0.0  \n",
       "2                 0.0          0.0  \n",
       "3                 0.0          0.0  \n",
       "4                 0.0          0.0  \n",
       "\n",
       "[5 rows x 6954 columns]"
      ]
     },
     "execution_count": 37,
     "metadata": {},
     "output_type": "execute_result"
    }
   ],
   "source": [
    "# Convert categorical data to numeric with pd.get_dummies\n",
    "converted_df = pd.get_dummies(final_df, dtype=float)\n",
    "converted_df.head()"
   ]
  },
  {
   "cell_type": "code",
   "execution_count": null,
   "id": "ded64323",
   "metadata": {},
   "outputs": [],
   "source": []
  }
 ],
 "metadata": {
  "kernelspec": {
   "display_name": "Python 3 (ipykernel)",
   "language": "python",
   "name": "python3"
  },
  "language_info": {
   "codemirror_mode": {
    "name": "ipython",
    "version": 3
   },
   "file_extension": ".py",
   "mimetype": "text/x-python",
   "name": "python",
   "nbconvert_exporter": "python",
   "pygments_lexer": "ipython3",
   "version": "3.7.11"
  }
 },
 "nbformat": 4,
 "nbformat_minor": 5
}
